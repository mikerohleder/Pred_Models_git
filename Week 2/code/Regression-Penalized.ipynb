{
 "cells": [
  {
   "cell_type": "markdown",
   "metadata": {},
   "source": [
    "# Receipes for several Regression implementations and Regularization"
   ]
  },
  {
   "cell_type": "code",
   "execution_count": 1,
   "metadata": {
    "collapsed": true
   },
   "outputs": [],
   "source": [
    "#Load Packages\n",
    "import numpy as np\n",
    "import matplotlib.pyplot as plt\n",
    "import pandas as pd\n",
    "import os as os\n",
    "from sklearn.metrics import mean_squared_error\n",
    "%matplotlib inline "
   ]
  },
  {
   "cell_type": "code",
   "execution_count": 2,
   "metadata": {},
   "outputs": [
    {
     "data": {
      "text/plain": [
       "'C:\\\\Users\\\\hh018653\\\\OneDrive - Cerner Corporation\\\\Personal\\\\Rockhurst\\\\Fall 2017\\\\Predictive Modeling\\\\Week 2\\\\code'"
      ]
     },
     "execution_count": 2,
     "metadata": {},
     "output_type": "execute_result"
    }
   ],
   "source": [
    "%pwd"
   ]
  },
  {
   "cell_type": "code",
   "execution_count": 3,
   "metadata": {
    "collapsed": true
   },
   "outputs": [],
   "source": [
    "#cd '/Users/mpgartland/Documents/Courses/Predictive Models/Pred_Models_git/Week 2/'\n",
    "os.chdir(\"C:/Users/hh018653/OneDrive - Cerner Corporation/Personal/Rockhurst/Fall 2017/Predictive Modeling/Week 2/\")"
   ]
  },
  {
   "cell_type": "code",
   "execution_count": 22,
   "metadata": {},
   "outputs": [
    {
     "name": "stdout",
     "output_type": "stream",
     "text": [
      "The Python version is 3.6.3\n"
     ]
    }
   ],
   "source": [
    "import sys\n",
    "print(\"The Python version is %s.%s.%s\" % sys.version_info[:3])"
   ]
  },
  {
   "cell_type": "code",
   "execution_count": 4,
   "metadata": {},
   "outputs": [
    {
     "data": {
      "text/html": [
       "<div>\n",
       "<style>\n",
       "    .dataframe thead tr:only-child th {\n",
       "        text-align: right;\n",
       "    }\n",
       "\n",
       "    .dataframe thead th {\n",
       "        text-align: left;\n",
       "    }\n",
       "\n",
       "    .dataframe tbody tr th {\n",
       "        vertical-align: top;\n",
       "    }\n",
       "</style>\n",
       "<table border=\"1\" class=\"dataframe\">\n",
       "  <thead>\n",
       "    <tr style=\"text-align: right;\">\n",
       "      <th></th>\n",
       "      <th>CRIM</th>\n",
       "      <th>ZN</th>\n",
       "      <th>INDUS</th>\n",
       "      <th>CHAS</th>\n",
       "      <th>NOX</th>\n",
       "      <th>RM</th>\n",
       "      <th>AGE</th>\n",
       "      <th>DIS</th>\n",
       "      <th>RAD</th>\n",
       "      <th>TAX</th>\n",
       "      <th>PTRATIO</th>\n",
       "      <th>B</th>\n",
       "      <th>LSTAT</th>\n",
       "      <th>MEDV</th>\n",
       "    </tr>\n",
       "  </thead>\n",
       "  <tbody>\n",
       "    <tr>\n",
       "      <th>0</th>\n",
       "      <td>0.00632</td>\n",
       "      <td>18.0</td>\n",
       "      <td>2.31</td>\n",
       "      <td>0</td>\n",
       "      <td>0.538</td>\n",
       "      <td>6.575</td>\n",
       "      <td>65.2</td>\n",
       "      <td>4.0900</td>\n",
       "      <td>1</td>\n",
       "      <td>296</td>\n",
       "      <td>15.3</td>\n",
       "      <td>396.90</td>\n",
       "      <td>4.98</td>\n",
       "      <td>24.0</td>\n",
       "    </tr>\n",
       "    <tr>\n",
       "      <th>1</th>\n",
       "      <td>0.02731</td>\n",
       "      <td>0.0</td>\n",
       "      <td>7.07</td>\n",
       "      <td>0</td>\n",
       "      <td>0.469</td>\n",
       "      <td>6.421</td>\n",
       "      <td>78.9</td>\n",
       "      <td>4.9671</td>\n",
       "      <td>2</td>\n",
       "      <td>242</td>\n",
       "      <td>17.8</td>\n",
       "      <td>396.90</td>\n",
       "      <td>9.14</td>\n",
       "      <td>21.6</td>\n",
       "    </tr>\n",
       "    <tr>\n",
       "      <th>2</th>\n",
       "      <td>0.02729</td>\n",
       "      <td>0.0</td>\n",
       "      <td>7.07</td>\n",
       "      <td>0</td>\n",
       "      <td>0.469</td>\n",
       "      <td>7.185</td>\n",
       "      <td>61.1</td>\n",
       "      <td>4.9671</td>\n",
       "      <td>2</td>\n",
       "      <td>242</td>\n",
       "      <td>17.8</td>\n",
       "      <td>392.83</td>\n",
       "      <td>4.03</td>\n",
       "      <td>34.7</td>\n",
       "    </tr>\n",
       "    <tr>\n",
       "      <th>3</th>\n",
       "      <td>0.03237</td>\n",
       "      <td>0.0</td>\n",
       "      <td>2.18</td>\n",
       "      <td>0</td>\n",
       "      <td>0.458</td>\n",
       "      <td>6.998</td>\n",
       "      <td>45.8</td>\n",
       "      <td>6.0622</td>\n",
       "      <td>3</td>\n",
       "      <td>222</td>\n",
       "      <td>18.7</td>\n",
       "      <td>394.63</td>\n",
       "      <td>2.94</td>\n",
       "      <td>33.4</td>\n",
       "    </tr>\n",
       "    <tr>\n",
       "      <th>4</th>\n",
       "      <td>0.06905</td>\n",
       "      <td>0.0</td>\n",
       "      <td>2.18</td>\n",
       "      <td>0</td>\n",
       "      <td>0.458</td>\n",
       "      <td>7.147</td>\n",
       "      <td>54.2</td>\n",
       "      <td>6.0622</td>\n",
       "      <td>3</td>\n",
       "      <td>222</td>\n",
       "      <td>18.7</td>\n",
       "      <td>396.90</td>\n",
       "      <td>5.33</td>\n",
       "      <td>36.2</td>\n",
       "    </tr>\n",
       "  </tbody>\n",
       "</table>\n",
       "</div>"
      ],
      "text/plain": [
       "      CRIM    ZN  INDUS  CHAS    NOX     RM   AGE     DIS  RAD  TAX  PTRATIO  \\\n",
       "0  0.00632  18.0   2.31     0  0.538  6.575  65.2  4.0900    1  296     15.3   \n",
       "1  0.02731   0.0   7.07     0  0.469  6.421  78.9  4.9671    2  242     17.8   \n",
       "2  0.02729   0.0   7.07     0  0.469  7.185  61.1  4.9671    2  242     17.8   \n",
       "3  0.03237   0.0   2.18     0  0.458  6.998  45.8  6.0622    3  222     18.7   \n",
       "4  0.06905   0.0   2.18     0  0.458  7.147  54.2  6.0622    3  222     18.7   \n",
       "\n",
       "        B  LSTAT  MEDV  \n",
       "0  396.90   4.98  24.0  \n",
       "1  396.90   9.14  21.6  \n",
       "2  392.83   4.03  34.7  \n",
       "3  394.63   2.94  33.4  \n",
       "4  396.90   5.33  36.2  "
      ]
     },
     "execution_count": 4,
     "metadata": {},
     "output_type": "execute_result"
    }
   ],
   "source": [
    "#Load Data\n",
    "#load the Boston House datasets.\n",
    "#The housing dataset consists of 13 economic variables\n",
    "#measure on 506 houses, and an median value (MEDV) as the target:\n",
    "dataset = pd.read_csv(\"data/boston_house_prices.csv\", sep=\",\", header=1)\n",
    "dataset.head()"
   ]
  },
  {
   "cell_type": "code",
   "execution_count": 5,
   "metadata": {},
   "outputs": [
    {
     "name": "stdout",
     "output_type": "stream",
     "text": [
      "(506,)\n",
      "(506, 13)\n"
     ]
    }
   ],
   "source": [
    "#In a imported data set, you would break the data into two objects dataname.features (your PV) and dataname.target (your target/DV)\n",
    "#There are a lot of ways to do this- here is one.\n",
    "#View our .data and .target\n",
    "dataset.target=dataset['MEDV'] \n",
    "dataset.features=dataset.drop(['MEDV'], axis=1)                         \n",
    "print(dataset.target.shape)\n",
    "print(dataset.features.shape)"
   ]
  },
  {
   "cell_type": "code",
   "execution_count": 6,
   "metadata": {},
   "outputs": [
    {
     "name": "stdout",
     "output_type": "stream",
     "text": [
      "LinearRegression(copy_X=True, fit_intercept=True, n_jobs=1, normalize=True)\n",
      "Coef 36.4911032804 [ -1.07170557e-01   4.63952195e-02   2.08602395e-02   2.68856140e+00\n",
      "  -1.77957587e+01   3.80475246e+00   7.51061703e-04  -1.47575880e+00\n",
      "   3.05655038e-01  -1.23293463e-02  -9.53463555e-01   9.39251272e-03\n",
      "  -5.25466633e-01]\n",
      "MSE 21.8977792177\n"
     ]
    }
   ],
   "source": [
    "# Linear Regression-Ordinary Least Squares\n",
    "from sklearn.linear_model import LinearRegression\n",
    "\n",
    "# fit a linear regression model to the data\n",
    "model_LR = LinearRegression(normalize=True)\n",
    "model_LR.fit(dataset.features, dataset.target)\n",
    "print(model_LR)\n",
    "# make predictions\n",
    "expected_LR = dataset.target\n",
    "predicted_LR = model_LR.predict(dataset.features)\n",
    "# summarize the fit of the model\n",
    "print(\"Coef\", model_LR.intercept_, model_LR.coef_)\n",
    "print(\"MSE\", mean_squared_error(expected_LR, predicted_LR))"
   ]
  },
  {
   "cell_type": "code",
   "execution_count": 7,
   "metadata": {},
   "outputs": [
    {
     "data": {
      "text/html": [
       "<div>\n",
       "<style>\n",
       "    .dataframe thead tr:only-child th {\n",
       "        text-align: right;\n",
       "    }\n",
       "\n",
       "    .dataframe thead th {\n",
       "        text-align: left;\n",
       "    }\n",
       "\n",
       "    .dataframe tbody tr th {\n",
       "        vertical-align: top;\n",
       "    }\n",
       "</style>\n",
       "<table border=\"1\" class=\"dataframe\">\n",
       "  <thead>\n",
       "    <tr style=\"text-align: right;\">\n",
       "      <th></th>\n",
       "      <th>0</th>\n",
       "    </tr>\n",
       "  </thead>\n",
       "  <tbody>\n",
       "    <tr>\n",
       "      <th>0</th>\n",
       "      <td>-0.107171</td>\n",
       "    </tr>\n",
       "    <tr>\n",
       "      <th>1</th>\n",
       "      <td>0.046395</td>\n",
       "    </tr>\n",
       "    <tr>\n",
       "      <th>2</th>\n",
       "      <td>0.020860</td>\n",
       "    </tr>\n",
       "    <tr>\n",
       "      <th>3</th>\n",
       "      <td>2.688561</td>\n",
       "    </tr>\n",
       "    <tr>\n",
       "      <th>4</th>\n",
       "      <td>-17.795759</td>\n",
       "    </tr>\n",
       "    <tr>\n",
       "      <th>5</th>\n",
       "      <td>3.804752</td>\n",
       "    </tr>\n",
       "    <tr>\n",
       "      <th>6</th>\n",
       "      <td>0.000751</td>\n",
       "    </tr>\n",
       "    <tr>\n",
       "      <th>7</th>\n",
       "      <td>-1.475759</td>\n",
       "    </tr>\n",
       "    <tr>\n",
       "      <th>8</th>\n",
       "      <td>0.305655</td>\n",
       "    </tr>\n",
       "    <tr>\n",
       "      <th>9</th>\n",
       "      <td>-0.012329</td>\n",
       "    </tr>\n",
       "    <tr>\n",
       "      <th>10</th>\n",
       "      <td>-0.953464</td>\n",
       "    </tr>\n",
       "    <tr>\n",
       "      <th>11</th>\n",
       "      <td>0.009393</td>\n",
       "    </tr>\n",
       "    <tr>\n",
       "      <th>12</th>\n",
       "      <td>-0.525467</td>\n",
       "    </tr>\n",
       "  </tbody>\n",
       "</table>\n",
       "</div>"
      ],
      "text/plain": [
       "            0\n",
       "0   -0.107171\n",
       "1    0.046395\n",
       "2    0.020860\n",
       "3    2.688561\n",
       "4  -17.795759\n",
       "5    3.804752\n",
       "6    0.000751\n",
       "7   -1.475759\n",
       "8    0.305655\n",
       "9   -0.012329\n",
       "10  -0.953464\n",
       "11   0.009393\n",
       "12  -0.525467"
      ]
     },
     "execution_count": 7,
     "metadata": {},
     "output_type": "execute_result"
    }
   ],
   "source": [
    "pd.DataFrame(np.transpose(model_LR.coef_))"
   ]
  },
  {
   "cell_type": "markdown",
   "metadata": {},
   "source": [
    "Just for explanation purposes: Showing the variance of the Coefficient for LR"
   ]
  },
  {
   "cell_type": "code",
   "execution_count": 8,
   "metadata": {},
   "outputs": [
    {
     "data": {
      "image/png": "[encoded data removed]",
      "text/plain": [
       "<matplotlib.figure.Figure at 0xc29d7f0>"
      ]
     },
     "metadata": {},
     "output_type": "display_data"
    }
   ],
   "source": [
    "fig, ax = plt.subplots()\n",
    "plt.plot(model_LR.coef_, label='LR')\n",
    "plt.axhline(linewidth=4, color='r') # for reference\n",
    "legend = ax.legend(loc='lower right', shadow=True)\n",
    "plt.show()"
   ]
  },
  {
   "cell_type": "code",
   "execution_count": 9,
   "metadata": {},
   "outputs": [
    {
     "name": "stdout",
     "output_type": "stream",
     "text": [
      "Ridge(alpha=20, copy_X=True, fit_intercept=True, max_iter=None,\n",
      "   normalize=False, random_state=None, solver='auto', tol=0.001)\n",
      "Coef 28.5631635058 [-0.10060401  0.05065136 -0.04698636  1.57414364 -1.27135531  3.47559439\n",
      " -0.00941967 -1.22949444  0.28487392 -0.01444316 -0.79939841  0.01007353\n",
      " -0.57847453]\n",
      "MSE 22.8584504371\n"
     ]
    }
   ],
   "source": [
    "# Ridge Regression\n",
    "from sklearn.linear_model import Ridge\n",
    "\n",
    "# fit a ridge regression model to the data\n",
    "model_RG = Ridge(alpha=20)\n",
    "model_RG.fit(dataset.features, dataset.target)\n",
    "print(model_RG)\n",
    "# make predictions\n",
    "expected_RG = dataset.target\n",
    "predicted_RG= model_RG.predict(dataset.features)\n",
    "# summarize the fit of the model\n",
    "print(\"Coef\", model_RG.intercept_, model_RG.coef_)\n",
    "print(\"MSE\", mean_squared_error(expected_RG, predicted_RG))"
   ]
  },
  {
   "cell_type": "code",
   "execution_count": 10,
   "metadata": {},
   "outputs": [
    {
     "data": {
      "text/html": [
       "<div>\n",
       "<style>\n",
       "    .dataframe thead tr:only-child th {\n",
       "        text-align: right;\n",
       "    }\n",
       "\n",
       "    .dataframe thead th {\n",
       "        text-align: left;\n",
       "    }\n",
       "\n",
       "    .dataframe tbody tr th {\n",
       "        vertical-align: top;\n",
       "    }\n",
       "</style>\n",
       "<table border=\"1\" class=\"dataframe\">\n",
       "  <thead>\n",
       "    <tr style=\"text-align: right;\">\n",
       "      <th></th>\n",
       "      <th>0</th>\n",
       "    </tr>\n",
       "  </thead>\n",
       "  <tbody>\n",
       "    <tr>\n",
       "      <th>0</th>\n",
       "      <td>-0.100604</td>\n",
       "    </tr>\n",
       "    <tr>\n",
       "      <th>1</th>\n",
       "      <td>0.050651</td>\n",
       "    </tr>\n",
       "    <tr>\n",
       "      <th>2</th>\n",
       "      <td>-0.046986</td>\n",
       "    </tr>\n",
       "    <tr>\n",
       "      <th>3</th>\n",
       "      <td>1.574144</td>\n",
       "    </tr>\n",
       "    <tr>\n",
       "      <th>4</th>\n",
       "      <td>-1.271355</td>\n",
       "    </tr>\n",
       "    <tr>\n",
       "      <th>5</th>\n",
       "      <td>3.475594</td>\n",
       "    </tr>\n",
       "    <tr>\n",
       "      <th>6</th>\n",
       "      <td>-0.009420</td>\n",
       "    </tr>\n",
       "    <tr>\n",
       "      <th>7</th>\n",
       "      <td>-1.229494</td>\n",
       "    </tr>\n",
       "    <tr>\n",
       "      <th>8</th>\n",
       "      <td>0.284874</td>\n",
       "    </tr>\n",
       "    <tr>\n",
       "      <th>9</th>\n",
       "      <td>-0.014443</td>\n",
       "    </tr>\n",
       "    <tr>\n",
       "      <th>10</th>\n",
       "      <td>-0.799398</td>\n",
       "    </tr>\n",
       "    <tr>\n",
       "      <th>11</th>\n",
       "      <td>0.010074</td>\n",
       "    </tr>\n",
       "    <tr>\n",
       "      <th>12</th>\n",
       "      <td>-0.578475</td>\n",
       "    </tr>\n",
       "  </tbody>\n",
       "</table>\n",
       "</div>"
      ],
      "text/plain": [
       "           0\n",
       "0  -0.100604\n",
       "1   0.050651\n",
       "2  -0.046986\n",
       "3   1.574144\n",
       "4  -1.271355\n",
       "5   3.475594\n",
       "6  -0.009420\n",
       "7  -1.229494\n",
       "8   0.284874\n",
       "9  -0.014443\n",
       "10 -0.799398\n",
       "11  0.010074\n",
       "12 -0.578475"
      ]
     },
     "execution_count": 10,
     "metadata": {},
     "output_type": "execute_result"
    }
   ],
   "source": [
    "pd.DataFrame(np.transpose(model_RG.coef_))"
   ]
  },
  {
   "cell_type": "markdown",
   "metadata": {},
   "source": [
    "# Example of a Grid Search with CV. On Regression, grid search displays and finds the optimal metric \"R2\". On classification models it uses \"accuracy\", all based on fit (not predict). "
   ]
  },
  {
   "cell_type": "code",
   "execution_count": 11,
   "metadata": {},
   "outputs": [
    {
     "data": {
      "image/png": "[encoded data removed]",
      "text/plain": [
       "<matplotlib.figure.Figure at 0xc6b3eb8>"
      ]
     },
     "metadata": {},
     "output_type": "display_data"
    }
   ],
   "source": [
    "fig, ax = plt.subplots()\n",
    "plt.plot(model_LR.coef_, label='LR')\n",
    "plt.plot(model_RG.coef_, label='Ridge')\n",
    "plt.axhline(linewidth=4, color='r') # for reference\n",
    "legend = ax.legend(loc='lower right', shadow=True)\n",
    "plt.show()"
   ]
  },
  {
   "cell_type": "code",
   "execution_count": 2,
   "metadata": {},
   "outputs": [
    {
     "ename": "SyntaxError",
     "evalue": "invalid syntax (<ipython-input-2-3bda238faf1f>, line 4)",
     "output_type": "error",
     "traceback": [
      "\u001b[1;36m  File \u001b[1;32m\"<ipython-input-2-3bda238faf1f>\"\u001b[1;36m, line \u001b[1;32m4\u001b[0m\n\u001b[1;33m    param_grid={\"alpha\": [1,10], [1]} this does a range 1 through 10 changes by a factor of 1.\u001b[0m\n\u001b[1;37m                                    ^\u001b[0m\n\u001b[1;31mSyntaxError\u001b[0m\u001b[1;31m:\u001b[0m invalid syntax\n"
     ]
    }
   ],
   "source": [
    "# use a full grid over several parameters and cross validate 5 times\n",
    "from sklearn.model_selection import GridSearchCV\n",
    "#param_grid = {\"alpha\": [2,10, 50, 100, 500]}\n",
    "param_grid={\"alpha\": [1,10], [1]} this does a range 1 through 10 changes by a factor of 1. \n",
    "#param_grid={\"alpha\": [.01,1,.05]} this does a range 1 through 1 changes by a factor of .05\n",
    "\n",
    "# run grid search\n",
    "grid_search = GridSearchCV(model_RG, param_grid=param_grid,n_jobs=-1,cv=5)\n",
    "grid_search.fit(dataset.features, dataset.target)\n",
    "print(\"Grid Scores\", grid_search.cv_results_)\n",
    "print(\"Best\", grid_search.best_params_)                                   "
   ]
  },
  {
   "cell_type": "markdown",
   "metadata": {},
   "source": [
    "Just for explanation purposes: Showing the variance of the Coefficient for LR and Ridge"
   ]
  },
  {
   "cell_type": "code",
   "execution_count": 15,
   "metadata": {},
   "outputs": [
    {
     "name": "stdout",
     "output_type": "stream",
     "text": [
      "Lasso(alpha=1, copy_X=True, fit_intercept=True, max_iter=1000,\n",
      "   normalize=False, positive=False, precompute=False, random_state=None,\n",
      "   selection='cyclic', tol=0.0001, warm_start=False)\n",
      "Coef 41.0660847685 [-0.06342255  0.04916867 -0.          0.         -0.          0.94678567\n",
      "  0.02092737 -0.66900864  0.26417501 -0.01520915 -0.72319901  0.00829117\n",
      " -0.76143296]\n",
      "MSE 26.7990335405\n"
     ]
    }
   ],
   "source": [
    "# Lasso Regression-Least Absolute Shrinkage and Selection Operator\n",
    "from sklearn.linear_model import Lasso\n",
    "\n",
    "# fit a LASSO model to the data\n",
    "model_LAS = Lasso(alpha=1)\n",
    "model_LAS.fit(dataset.features, dataset.target)\n",
    "print(model_LAS)\n",
    "# make predictions\n",
    "expected_LAS = dataset.target\n",
    "predicted_LAS = model_LAS.predict(dataset.features)\n",
    "# summarize the fit of the model\n",
    "print(\"Coef\", model_LAS.intercept_,model_LAS.coef_)\n",
    "print(\"MSE\", mean_squared_error(expected_LAS, predicted_LAS))"
   ]
  },
  {
   "cell_type": "markdown",
   "metadata": {},
   "source": [
    "Just for explanation purposes: Showing the variance of the Coefficient for LR, Ridge and Lasso"
   ]
  },
  {
   "cell_type": "code",
   "execution_count": 16,
   "metadata": {},
   "outputs": [
    {
     "data": {
      "image/png": "[encoded data removed]",
      "text/plain": [
       "<matplotlib.figure.Figure at 0xc8317b8>"
      ]
     },
     "metadata": {},
     "output_type": "display_data"
    }
   ],
   "source": [
    "fig, ax = plt.subplots()\n",
    "plt.plot(model_LR.coef_, label='LR')\n",
    "plt.plot(model_RG.coef_, label='Ridge')\n",
    "plt.plot(model_LAS.coef_, label='Lasso')\n",
    "plt.axhline(linewidth=4, color='r') # for reference\n",
    "legend = ax.legend(loc='lower right', shadow=True)\n",
    "plt.show()"
   ]
  },
  {
   "cell_type": "code",
   "execution_count": 17,
   "metadata": {},
   "outputs": [
    {
     "name": "stdout",
     "output_type": "stream",
     "text": [
      "ElasticNet(alpha=2, copy_X=True, fit_intercept=True, l1_ratio=0.5,\n",
      "      max_iter=1000, normalize=False, positive=False, precompute=False,\n",
      "      random_state=None, selection='cyclic', tol=0.0001, warm_start=False)\n",
      "Coef 42.1589771687 [-0.05932403  0.04955408 -0.          0.         -0.          0.27870153\n",
      "  0.03275004 -0.44059318  0.25369494 -0.01523125 -0.60843696  0.00768809\n",
      " -0.79183787]\n",
      "MSE 29.1017857775\n"
     ]
    }
   ],
   "source": [
    "# ElasticNet Regression\n",
    "from sklearn.linear_model import ElasticNet\n",
    "\n",
    "# fit a model to the data\n",
    "model_EN = ElasticNet(alpha=2)\n",
    "model_EN.fit(dataset.features, dataset.target)\n",
    "print(model_EN)\n",
    "# make predictions\n",
    "expected_EN = dataset.target\n",
    "predicted_EN = model_EN.predict(dataset.features)\n",
    "# summarize the fit of the model\n",
    "print(\"Coef\", model_EN.intercept_, model_EN.coef_)\n",
    "print(\"MSE\", mean_squared_error(expected_EN, predicted_EN))"
   ]
  },
  {
   "cell_type": "code",
   "execution_count": 18,
   "metadata": {},
   "outputs": [
    {
     "data": {
      "image/png": "[encoded data removed]",
      "text/plain": [
       "<matplotlib.figure.Figure at 0xc6e8208>"
      ]
     },
     "metadata": {},
     "output_type": "display_data"
    }
   ],
   "source": [
    "#Plot all the model coefficients\n",
    "fig, ax = plt.subplots()\n",
    "plt.plot(model_LR.coef_, label='LR')\n",
    "plt.plot(model_RG.coef_, label='Ridge')\n",
    "plt.plot(model_LAS.coef_, label='Lasso')\n",
    "plt.plot(model_EN.coef_, label='ElasticNet')\n",
    "plt.axhline(linewidth=4, color='r') # for reference\n",
    "legend = ax.legend(loc='lower right', shadow=True)\n",
    "plt.show()"
   ]
  },
  {
   "cell_type": "code",
   "execution_count": 19,
   "metadata": {},
   "outputs": [
    {
     "name": "stdout",
     "output_type": "stream",
     "text": [
      "Lars(copy_X=True, eps=2.2204460492503131e-16, fit_intercept=True,\n",
      "   fit_path=True, n_nonzero_coefs=1, normalize=True, positive=False,\n",
      "   precompute='auto', verbose=False)\n",
      "Coef 24.317854487 [ 0.          0.          0.          0.          0.          0.          0.\n",
      "  0.          0.          0.          0.          0.         -0.14107636]\n",
      "MSE 71.7898855211\n"
     ]
    }
   ],
   "source": [
    "#LARS Regression Model- Least Angle Regression model\n",
    "from sklearn import linear_model\n",
    "model_LAR = linear_model.Lars(n_nonzero_coefs=1)\n",
    "model_LAR.fit(dataset.features, dataset.target)\n",
    "print(model_LAR)\n",
    "# make predictions\n",
    "expected_LAR = dataset.target\n",
    "predicted_LAR = model_LAR.predict(dataset.features)\n",
    "# summarize the fit of the model\n",
    "mse_LAR = np.mean((predicted_LAR-expected_LAR)**2)\n",
    "print(\"Coef\", model_LAR.intercept_, model_LAR.coef_)\n",
    "print(\"MSE\", mean_squared_error(expected_LAR, predicted_LAR))"
   ]
  },
  {
   "cell_type": "code",
   "execution_count": 20,
   "metadata": {},
   "outputs": [
    {
     "data": {
      "image/png": "[encoded data removed]",
      "text/plain": [
       "<matplotlib.figure.Figure at 0xd0e46a0>"
      ]
     },
     "metadata": {},
     "output_type": "display_data"
    }
   ],
   "source": [
    "#Plot all the model coefficients\n",
    "fig, ax = plt.subplots()\n",
    "plt.plot(model_LR.coef_, label='LR')\n",
    "plt.plot(model_RG.coef_, label='Ridge')\n",
    "plt.plot(model_LAS.coef_, label='Lasso')\n",
    "plt.plot(model_EN.coef_, label='ElasticNet')\n",
    "plt.plot(model_LAR.coef_, label='LARS')\n",
    "plt.axhline(linewidth=4, color='r') # for reference\n",
    "legend = ax.legend(loc='lower right', shadow=True)\n",
    "plt.show()"
   ]
  },
  {
   "cell_type": "markdown",
   "metadata": {},
   "source": [
    "# USING the STATSMODEL instead of skLearn\n"
   ]
  },
  {
   "cell_type": "code",
   "execution_count": 21,
   "metadata": {},
   "outputs": [
    {
     "name": "stdout",
     "output_type": "stream",
     "text": [
      "                            OLS Regression Results                            \n",
      "==============================================================================\n",
      "Dep. Variable:                Lottery   R-squared:                       0.348\n",
      "Model:                            OLS   Adj. R-squared:                  0.333\n",
      "Method:                 Least Squares   F-statistic:                     22.20\n",
      "Date:                Wed, 24 Oct 2018   Prob (F-statistic):           1.90e-08\n",
      "Time:                        20:05:26   Log-Likelihood:                -379.82\n",
      "No. Observations:                  86   AIC:                             765.6\n",
      "Df Residuals:                      83   BIC:                             773.0\n",
      "Df Model:                           2                                         \n",
      "Covariance Type:            nonrobust                                         \n",
      "===================================================================================\n",
      "                      coef    std err          t      P>|t|      [0.025      0.975]\n",
      "-----------------------------------------------------------------------------------\n",
      "Intercept         246.4341     35.233      6.995      0.000     176.358     316.510\n",
      "Literacy           -0.4889      0.128     -3.832      0.000      -0.743      -0.235\n",
      "np.log(Pop1831)   -31.3114      5.977     -5.239      0.000     -43.199     -19.424\n",
      "==============================================================================\n",
      "Omnibus:                        3.713   Durbin-Watson:                   2.019\n",
      "Prob(Omnibus):                  0.156   Jarque-Bera (JB):                3.394\n",
      "Skew:                          -0.487   Prob(JB):                        0.183\n",
      "Kurtosis:                       3.003   Cond. No.                         702.\n",
      "==============================================================================\n",
      "\n",
      "Warnings:\n",
      "[1] Standard Errors assume that the covariance matrix of the errors is correctly specified.\n"
     ]
    }
   ],
   "source": [
    "\n",
    "import numpy as np\n",
    "import pandas as pd\n",
    "import statsmodels.formula.api as smf\n",
    "\n",
    "# Load data\n",
    "url = 'http://vincentarelbundock.github.io/Rdatasets/csv/HistData/Guerry.csv'\n",
    "dat = pd.read_csv(url)\n",
    "\n",
    "\n",
    "# Fit regression model (using the natural log of one of the regressors)\n",
    "results = smf.ols('Lottery ~ Literacy + np.log(Pop1831)', data=dat).fit()\n",
    "\n",
    "# Inspect the results\n",
    "print(results.summary())"
   ]
  },
  {
   "cell_type": "code",
   "execution_count": 18,
   "metadata": {},
   "outputs": [
    {
     "name": "stdout",
     "output_type": "stream",
     "text": [
      "                            OLS Regression Results                            \n",
      "==============================================================================\n",
      "Dep. Variable:         dataset.target   R-squared:                       0.741\n",
      "Model:                            OLS   Adj. R-squared:                  0.734\n",
      "Method:                 Least Squares   F-statistic:                     108.1\n",
      "Date:                Wed, 31 May 2017   Prob (F-statistic):          6.95e-135\n",
      "Time:                        14:47:06   Log-Likelihood:                -1498.8\n",
      "No. Observations:                 506   AIC:                             3026.\n",
      "Df Residuals:                     492   BIC:                             3085.\n",
      "Df Model:                          13                                         \n",
      "Covariance Type:            nonrobust                                         \n",
      "========================================================================================\n",
      "                           coef    std err          t      P>|t|      [0.025      0.975]\n",
      "----------------------------------------------------------------------------------------\n",
      "Intercept               36.4911      5.104      7.149      0.000      26.462      46.520\n",
      "dataset.features[0]     -0.1072      0.033     -3.276      0.001      -0.171      -0.043\n",
      "dataset.features[1]      0.0464      0.014      3.380      0.001       0.019       0.073\n",
      "dataset.features[2]      0.0209      0.061      0.339      0.735      -0.100       0.142\n",
      "dataset.features[3]      2.6886      0.862      3.120      0.002       0.996       4.381\n",
      "dataset.features[4]    -17.7958      3.821     -4.658      0.000     -25.302     -10.289\n",
      "dataset.features[5]      3.8048      0.418      9.102      0.000       2.983       4.626\n",
      "dataset.features[6]      0.0008      0.013      0.057      0.955      -0.025       0.027\n",
      "dataset.features[7]     -1.4758      0.199     -7.398      0.000      -1.868      -1.084\n",
      "dataset.features[8]      0.3057      0.066      4.608      0.000       0.175       0.436\n",
      "dataset.features[9]     -0.0123      0.004     -3.278      0.001      -0.020      -0.005\n",
      "dataset.features[10]    -0.9535      0.131     -7.287      0.000      -1.211      -0.696\n",
      "dataset.features[11]     0.0094      0.003      3.500      0.001       0.004       0.015\n",
      "dataset.features[12]    -0.5255      0.051    -10.366      0.000      -0.625      -0.426\n",
      "==============================================================================\n",
      "Omnibus:                      178.029   Durbin-Watson:                   1.078\n",
      "Prob(Omnibus):                  0.000   Jarque-Bera (JB):              782.015\n",
      "Skew:                           1.521   Prob(JB):                    1.54e-170\n",
      "Kurtosis:                       8.276   Cond. No.                     1.51e+04\n",
      "==============================================================================\n",
      "\n",
      "Warnings:\n",
      "[1] Standard Errors assume that the covariance matrix of the errors is correctly specified.\n",
      "[2] The condition number is large, 1.51e+04. This might indicate that there are\n",
      "strong multicollinearity or other numerical problems.\n"
     ]
    }
   ],
   "source": [
    "#USING the STATSMODEL instead of skLearn with the housing dataset\n",
    "\n",
    "# Fit regression model \n",
    "results1 = smf.ols('dataset.target~ dataset.features', data=dataset).fit()\n",
    "\n",
    "# Inspect the results\n",
    "print(results1.summary())"
   ]
  },
  {
   "cell_type": "code",
   "execution_count": 19,
   "metadata": {},
   "outputs": [
    {
     "name": "stdout",
     "output_type": "stream",
     "text": [
      "Parameters:  Intercept          246.434135\n",
      "Literacy            -0.488923\n",
      "np.log(Pop1831)    -31.311392\n",
      "dtype: float64\n",
      "Standard errors:  Intercept          35.232504\n",
      "Literacy            0.127588\n",
      "np.log(Pop1831)     5.976778\n",
      "dtype: float64\n",
      "Predicted values:  [ 45.28111552  26.10731517  61.66689491  65.84571262  60.50666251\n",
      "  50.65364442  36.18545491  64.36053682  45.16226913  54.50128015\n",
      "  47.05726094  43.59906372  26.75575698  57.33509109  44.31149942\n",
      "  36.4093396   66.44356669  62.5179869   31.445032    38.37361199\n",
      "  60.4349197   44.14479871  35.96987559  47.35193753  32.05500621\n",
      "  43.73139604  43.02036876  42.80379617  41.5681693   48.01756606\n",
      "  29.0649797   41.34530592  36.80711795  65.8333425   54.95241358\n",
      "  34.66823101  30.8711604   56.14387953  62.18620796  45.34919918\n",
      "  58.41110071  42.04335068  46.75969329  57.84147286  48.13693343\n",
      "  78.42531729  42.68049242  25.57205184  33.38962699  38.36831808\n",
      "  53.49369591  24.39057162  30.17352354  49.46837681  29.66117011\n",
      "  59.94201695   8.45773319  32.60937127  33.71368948  19.4234143\n",
      "  38.28350577  33.70590127  49.83755855  72.94944268  19.11091862\n",
      "  22.27579943  34.24609352  35.17579164  34.73435572  39.96872771\n",
      "  -2.47014786  20.57096245  39.03977407  27.89226927  48.02011015\n",
      "  27.70990542  54.71575446  62.27884968  54.82031562  56.85386179\n",
      "  51.13247489  57.47413433  63.07654546  28.67752189  39.81272132\n",
      "  57.30616412]\n"
     ]
    }
   ],
   "source": [
    "#extra individually\n",
    "print('Parameters: ', results.params)\n",
    "print('Standard errors: ', results.bse)\n",
    "print('Predicted values: ', results.predict())"
   ]
  },
  {
   "cell_type": "code",
   "execution_count": null,
   "metadata": {
    "collapsed": true
   },
   "outputs": [],
   "source": []
  }
 ],
 "metadata": {
  "anaconda-cloud": {},
  "kernelspec": {
   "display_name": "Python 3",
   "language": "python",
   "name": "python3"
  },
  "language_info": {
   "codemirror_mode": {
    "name": "ipython",
    "version": 3
   },
   "file_extension": ".py",
   "mimetype": "text/x-python",
   "name": "python",
   "nbconvert_exporter": "python",
   "pygments_lexer": "ipython3",
   "version": "3.6.7"
  }
 },
 "nbformat": 4,
 "nbformat_minor": 2
}
